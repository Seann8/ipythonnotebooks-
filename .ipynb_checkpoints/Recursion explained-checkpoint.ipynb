{
 "cells": [
  {
   "cell_type": "markdown",
   "metadata": {},
   "source": [
    "### Recursion\n",
    "\n",
    "\n",
    "I came across [this](https://blog.svpino.com/2015/05/07/five-programming-problems-every-software-engineer-should-be-able-to-solve-in-less-than-1-hour) blog a while ago, I do not necessarily agree with the authors opinions but in attempting the solutions to the questions I relaised I do not know that much about recursion. So I set out to fix that.\n",
    "\n",
    "\n",
    "My experience with programming langauges is primarily from a data focused perspective , there are a lot of programming concepts that I don't really come into contact with in my day to day; recursion is one of these concepts \n",
    "\n",
    "#####What is recursion \n",
    "\n",
    "\n",
    "My own noobish leaning is that recursion is that hting you do when you don't want to use a for loop.What recursion actually is using the concept of breaking a problem down into smaller sub problems.Let's look at the question in the blog post and work it out using that \n",
    "\n",
    "-------\n",
    "* Problem 1 :Write three functions that compute the sum of the numbers in a given list using a for-loop, a while-loop, and recursion\n",
    "\n",
    "--------\n",
    "\n",
    "sounds easy enough (well the first two parts anyway). the for and while loop are pretty trivial to implement:"
   ]
  },
  {
   "cell_type": "code",
   "execution_count": 1,
   "metadata": {
    "collapsed": false
   },
   "outputs": [
    {
     "name": "stdout",
     "output_type": "stream",
     "text": [
      "6\n",
      "6\n"
     ]
    }
   ],
   "source": [
    "def forFunction(data):\n",
    "    sum = 0 \n",
    "    for i in data:\n",
    "        sum += i\n",
    "    return sum \n",
    "\n",
    "def whileFunction(data):\n",
    "    sum = 0 \n",
    "    i =0 \n",
    "    while i < len(data):\n",
    "        sum += data[i]\n",
    "        i += 1\n",
    "    return sum\n",
    "\n",
    "nums = [1,2,3]\n",
    "\n",
    "print forFunction(nums)\n",
    "print whileFunction(nums)"
   ]
  },
  {
   "cell_type": "markdown",
   "metadata": {},
   "source": [
    "Easy peasy , two functions that approach the problem using different logic  but have a degree of commonality. They both add to a sum value after each iteration and they both have a counter to maintain the length of the loop.If we want to solve this problem using Recursion , the problem becomes slightly more abstract.  "
   ]
  },
  {
   "cell_type": "code",
   "execution_count": 3,
   "metadata": {
    "collapsed": false
   },
   "outputs": [
    {
     "name": "stdout",
     "output_type": "stream",
     "text": [
      "6\n"
     ]
    }
   ],
   "source": [
    "def recursFunction(data):\n",
    "    if len(data)==1:\n",
    "        return data[0]\n",
    "    else :\n",
    "        return data[0] + recursFunction(data[1:])\n",
    "    \n",
    "print recursFunction(nums)"
   ]
  },
  {
   "cell_type": "markdown",
   "metadata": {},
   "source": [
    " Ok so this can be a bit foreign but what is going on here is the function is calling itself for the purpose of addition.If the function gets a list of length 1 , addition doesn't need to happen so the function just returns the single value for all other lists. In any other conditions the function takes the first value and sums it to a new list made of the other values.This is unintuitive at first but if you look at it step wise it makes sense \n",
    " "
   ]
  },
  {
   "cell_type": "code",
   "execution_count": 5,
   "metadata": {
    "collapsed": false
   },
   "outputs": [
    {
     "name": "stdout",
     "output_type": "stream",
     "text": [
      "[2, 3]\n"
     ]
    }
   ],
   "source": [
    "nums = [1,2,3]  # our original list \n",
    "newnums =nums[1:] # this tells python to make a list of everything \n",
    "              # after element zero\n",
    "print newnums"
   ]
  },
  {
   "cell_type": "code",
   "execution_count": 6,
   "metadata": {
    "collapsed": false
   },
   "outputs": [
    {
     "name": "stdout",
     "output_type": "stream",
     "text": [
      "[3]\n"
     ]
    }
   ],
   "source": [
    "newnewnums =newnums[1:]\n",
    "print newnewnums"
   ]
  },
  {
   "cell_type": "markdown",
   "metadata": {},
   "source": [
    "so what is happening here is the fuction breaks the list up into smaller components and adds them together. from a logical perspective think of it like a branched structure so it would look like this(crappy ASCII art incoming) :\n",
    "\n",
    "            N=2\n",
    "           nums[0]+recursFunction(nums)\n",
    "               ^\n",
    "               3---------\n",
    "                        |\n",
    "                        V\n",
    "                        N=1\n",
    "                        nums[0]+recursFunction(nums)\n",
    "                        ^\n",
    "                        2--------------\n",
    "                                       |\n",
    "                                       V\n",
    "                                       N=0 <== len ==1\n",
    "                                       nums[0]\n",
    "                                       1\n",
    "When it gets to the bottom the  `if` statment is met and recursion is stopped                         "
   ]
  },
  {
   "cell_type": "markdown",
   "metadata": {},
   "source": [
    "So in looking at the base elements of recursion, at it's most basic level it needs two conditions : \n",
    "    1. a way to call itself \n",
    "    2. A way to terminate recursion \n",
    " \n",
    "    \n",
    "  "
   ]
  }
 ],
 "metadata": {
  "kernelspec": {
   "display_name": "Python 2",
   "language": "python",
   "name": "python2"
  },
  "language_info": {
   "codemirror_mode": {
    "name": "ipython",
    "version": 2
   },
   "file_extension": ".py",
   "mimetype": "text/x-python",
   "name": "python",
   "nbconvert_exporter": "python",
   "pygments_lexer": "ipython2",
   "version": "2.7.6"
  }
 },
 "nbformat": 4,
 "nbformat_minor": 0
}
